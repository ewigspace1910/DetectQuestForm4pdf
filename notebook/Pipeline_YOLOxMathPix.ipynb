{
  "nbformat": 4,
  "nbformat_minor": 0,
  "metadata": {
    "colab": {
      "provenance": [],
      "collapsed_sections": [
        "rRtFauOcSaSc"
      ]
    },
    "kernelspec": {
      "name": "python3",
      "display_name": "Python 3"
    },
    "language_info": {
      "name": "python"
    }
  },
  "cells": [
    {
      "cell_type": "code",
      "execution_count": 1,
      "metadata": {
        "colab": {
          "base_uri": "https://localhost:8080/"
        },
        "id": "CREr2VfASWEC",
        "outputId": "ac96d093-390e-429e-9a44-89bed582e00c"
      },
      "outputs": [
        {
          "output_type": "stream",
          "name": "stdout",
          "text": [
            "Mounted at /content/drive\n"
          ]
        }
      ],
      "source": [
        "from google.colab import drive\n",
        "drive.mount('/content/drive')"
      ]
    },
    {
      "cell_type": "markdown",
      "source": [
        "##path"
      ],
      "metadata": {
        "id": "aQa8tta6VNF3"
      }
    },
    {
      "cell_type": "code",
      "source": [
        "!pip install gdown"
      ],
      "metadata": {
        "id": "vspZR0QKmGHb"
      },
      "execution_count": null,
      "outputs": []
    },
    {
      "cell_type": "code",
      "source": [
        "!gdown -O model.zip --id 1E-csmnsn4xfqYG38-JzAZJw2guUYF6yx"
      ],
      "metadata": {
        "id": "cgJ5FJoSmfTA"
      },
      "execution_count": null,
      "outputs": []
    },
    {
      "cell_type": "code",
      "source": [
        "!gdown -O question.zip --id 15Ij7IiAPY68pmUDYjMysBaJ37NV_8rE8"
      ],
      "metadata": {
        "id": "kufCdgbZmMDF"
      },
      "execution_count": null,
      "outputs": []
    },
    {
      "cell_type": "code",
      "source": [
        "!unzip model.zip\n",
        "!unzip question.zip"
      ],
      "metadata": {
        "id": "9791iqR4mnif"
      },
      "execution_count": null,
      "outputs": []
    },
    {
      "cell_type": "code",
      "source": [
        "!cp /content/output/detectQuestionForm/v8m/train2/weights /content/weights -rf"
      ],
      "metadata": {
        "id": "0L-oO9u0mvZA"
      },
      "execution_count": 10,
      "outputs": []
    },
    {
      "cell_type": "markdown",
      "source": [
        "# **ENV**"
      ],
      "metadata": {
        "id": "rRtFauOcSaSc"
      }
    },
    {
      "cell_type": "code",
      "source": [
        "!pip install ultralytics"
      ],
      "metadata": {
        "colab": {
          "base_uri": "https://localhost:8080/"
        },
        "id": "_RPA4KmYSdIC",
        "outputId": "aaf49c46-24ef-4777-a089-f2b8cdc8008f"
      },
      "execution_count": 11,
      "outputs": [
        {
          "output_type": "stream",
          "name": "stdout",
          "text": [
            "Looking in indexes: https://pypi.org/simple, https://us-python.pkg.dev/colab-wheels/public/simple/\n",
            "Collecting ultralytics\n",
            "  Downloading ultralytics-8.0.83-py3-none-any.whl (529 kB)\n",
            "\u001b[2K     \u001b[90m━━━━━━━━━━━━━━━━━━━━━━━━━━━━━━━━━━━━━━\u001b[0m \u001b[32m529.2/529.2 kB\u001b[0m \u001b[31m13.3 MB/s\u001b[0m eta \u001b[36m0:00:00\u001b[0m\n",
            "\u001b[?25hRequirement already satisfied: matplotlib>=3.2.2 in /usr/local/lib/python3.9/dist-packages (from ultralytics) (3.7.1)\n",
            "Requirement already satisfied: scipy>=1.4.1 in /usr/local/lib/python3.9/dist-packages (from ultralytics) (1.10.1)\n",
            "Requirement already satisfied: tqdm>=4.64.0 in /usr/local/lib/python3.9/dist-packages (from ultralytics) (4.65.0)\n",
            "Collecting sentry-sdk\n",
            "  Downloading sentry_sdk-1.20.0-py2.py3-none-any.whl (198 kB)\n",
            "\u001b[2K     \u001b[90m━━━━━━━━━━━━━━━━━━━━━━━━━━━━━━━━━━━━━━\u001b[0m \u001b[32m198.8/198.8 kB\u001b[0m \u001b[31m14.1 MB/s\u001b[0m eta \u001b[36m0:00:00\u001b[0m\n",
            "\u001b[?25hRequirement already satisfied: numpy>=1.21.6 in /usr/local/lib/python3.9/dist-packages (from ultralytics) (1.22.4)\n",
            "Requirement already satisfied: seaborn>=0.11.0 in /usr/local/lib/python3.9/dist-packages (from ultralytics) (0.12.2)\n",
            "Requirement already satisfied: Pillow>=7.1.2 in /usr/local/lib/python3.9/dist-packages (from ultralytics) (8.4.0)\n",
            "Requirement already satisfied: opencv-python>=4.6.0 in /usr/local/lib/python3.9/dist-packages (from ultralytics) (4.7.0.72)\n",
            "Requirement already satisfied: psutil in /usr/local/lib/python3.9/dist-packages (from ultralytics) (5.9.5)\n",
            "Collecting thop>=0.1.1\n",
            "  Downloading thop-0.1.1.post2209072238-py3-none-any.whl (15 kB)\n",
            "Requirement already satisfied: torch>=1.7.0 in /usr/local/lib/python3.9/dist-packages (from ultralytics) (2.0.0+cu118)\n",
            "Requirement already satisfied: pandas>=1.1.4 in /usr/local/lib/python3.9/dist-packages (from ultralytics) (1.5.3)\n",
            "Requirement already satisfied: torchvision>=0.8.1 in /usr/local/lib/python3.9/dist-packages (from ultralytics) (0.15.1+cu118)\n",
            "Requirement already satisfied: requests>=2.23.0 in /usr/local/lib/python3.9/dist-packages (from ultralytics) (2.27.1)\n",
            "Requirement already satisfied: PyYAML>=5.3.1 in /usr/local/lib/python3.9/dist-packages (from ultralytics) (6.0)\n",
            "Requirement already satisfied: contourpy>=1.0.1 in /usr/local/lib/python3.9/dist-packages (from matplotlib>=3.2.2->ultralytics) (1.0.7)\n",
            "Requirement already satisfied: packaging>=20.0 in /usr/local/lib/python3.9/dist-packages (from matplotlib>=3.2.2->ultralytics) (23.1)\n",
            "Requirement already satisfied: importlib-resources>=3.2.0 in /usr/local/lib/python3.9/dist-packages (from matplotlib>=3.2.2->ultralytics) (5.12.0)\n",
            "Requirement already satisfied: kiwisolver>=1.0.1 in /usr/local/lib/python3.9/dist-packages (from matplotlib>=3.2.2->ultralytics) (1.4.4)\n",
            "Requirement already satisfied: pyparsing>=2.3.1 in /usr/local/lib/python3.9/dist-packages (from matplotlib>=3.2.2->ultralytics) (3.0.9)\n",
            "Requirement already satisfied: fonttools>=4.22.0 in /usr/local/lib/python3.9/dist-packages (from matplotlib>=3.2.2->ultralytics) (4.39.3)\n",
            "Requirement already satisfied: cycler>=0.10 in /usr/local/lib/python3.9/dist-packages (from matplotlib>=3.2.2->ultralytics) (0.11.0)\n",
            "Requirement already satisfied: python-dateutil>=2.7 in /usr/local/lib/python3.9/dist-packages (from matplotlib>=3.2.2->ultralytics) (2.8.2)\n",
            "Requirement already satisfied: pytz>=2020.1 in /usr/local/lib/python3.9/dist-packages (from pandas>=1.1.4->ultralytics) (2022.7.1)\n",
            "Requirement already satisfied: idna<4,>=2.5 in /usr/local/lib/python3.9/dist-packages (from requests>=2.23.0->ultralytics) (3.4)\n",
            "Requirement already satisfied: urllib3<1.27,>=1.21.1 in /usr/local/lib/python3.9/dist-packages (from requests>=2.23.0->ultralytics) (1.26.15)\n",
            "Requirement already satisfied: charset-normalizer~=2.0.0 in /usr/local/lib/python3.9/dist-packages (from requests>=2.23.0->ultralytics) (2.0.12)\n",
            "Requirement already satisfied: certifi>=2017.4.17 in /usr/local/lib/python3.9/dist-packages (from requests>=2.23.0->ultralytics) (2022.12.7)\n",
            "Requirement already satisfied: jinja2 in /usr/local/lib/python3.9/dist-packages (from torch>=1.7.0->ultralytics) (3.1.2)\n",
            "Requirement already satisfied: sympy in /usr/local/lib/python3.9/dist-packages (from torch>=1.7.0->ultralytics) (1.11.1)\n",
            "Requirement already satisfied: filelock in /usr/local/lib/python3.9/dist-packages (from torch>=1.7.0->ultralytics) (3.11.0)\n",
            "Requirement already satisfied: triton==2.0.0 in /usr/local/lib/python3.9/dist-packages (from torch>=1.7.0->ultralytics) (2.0.0)\n",
            "Requirement already satisfied: typing-extensions in /usr/local/lib/python3.9/dist-packages (from torch>=1.7.0->ultralytics) (4.5.0)\n",
            "Requirement already satisfied: networkx in /usr/local/lib/python3.9/dist-packages (from torch>=1.7.0->ultralytics) (3.1)\n",
            "Requirement already satisfied: lit in /usr/local/lib/python3.9/dist-packages (from triton==2.0.0->torch>=1.7.0->ultralytics) (16.0.1)\n",
            "Requirement already satisfied: cmake in /usr/local/lib/python3.9/dist-packages (from triton==2.0.0->torch>=1.7.0->ultralytics) (3.25.2)\n",
            "Requirement already satisfied: zipp>=3.1.0 in /usr/local/lib/python3.9/dist-packages (from importlib-resources>=3.2.0->matplotlib>=3.2.2->ultralytics) (3.15.0)\n",
            "Requirement already satisfied: six>=1.5 in /usr/local/lib/python3.9/dist-packages (from python-dateutil>=2.7->matplotlib>=3.2.2->ultralytics) (1.16.0)\n",
            "Requirement already satisfied: MarkupSafe>=2.0 in /usr/local/lib/python3.9/dist-packages (from jinja2->torch>=1.7.0->ultralytics) (2.1.2)\n",
            "Requirement already satisfied: mpmath>=0.19 in /usr/local/lib/python3.9/dist-packages (from sympy->torch>=1.7.0->ultralytics) (1.3.0)\n",
            "Installing collected packages: sentry-sdk, thop, ultralytics\n",
            "Successfully installed sentry-sdk-1.20.0 thop-0.1.1.post2209072238 ultralytics-8.0.83\n"
          ]
        }
      ]
    },
    {
      "cell_type": "code",
      "source": [],
      "metadata": {
        "id": "V3Ncx3BlVVCH"
      },
      "execution_count": 11,
      "outputs": []
    },
    {
      "cell_type": "markdown",
      "source": [
        "# **DETECTION**"
      ],
      "metadata": {
        "id": "EZhTFg3lSdeX"
      }
    },
    {
      "cell_type": "code",
      "source": [
        "category_map = {\n",
        "    \"heading\": 0, \n",
        "    \"question\": 1,  \n",
        "    \"subquestion\": 2,\n",
        "    \"choice\"  : 3,\n",
        "    \"image\"   : 4,\n",
        "    \"table\"   : 5,\n",
        "    \"blank\"   : 6,\n",
        "    \"auxillary_text\"   : 7\n",
        "}\n",
        "category_weights = {\n",
        "    \"heading\": 3, \n",
        "    \"question\": 2,  \n",
        "    \"subquestion\": 1,\n",
        "    \"choice\"  : 0,\n",
        "    \"image\"   : 0,\n",
        "    \"table\"   : 0,\n",
        "    \"blank\"   : 0,\n",
        "    \"auxillary_text\"   : 0\n",
        "}\n",
        "reverse_map = {category_map[k]:k for k in category_map}"
      ],
      "metadata": {
        "id": "453QfJMBU9hy"
      },
      "execution_count": 12,
      "outputs": []
    },
    {
      "cell_type": "code",
      "source": [
        "from ultralytics import YOLO\n",
        "model = YOLO('/content/weights/best.pt')  # build from YAML and transfer weights\n",
        "\n"
      ],
      "metadata": {
        "id": "fSBHf9e9Shqi"
      },
      "execution_count": 13,
      "outputs": []
    },
    {
      "cell_type": "code",
      "source": [
        "# source = \"/content/dataset/questiondetection/small\"\n",
        "source = \"/content/dataset/questiondetection/test/P6_Maths_2022_SA2_payalebarmethodist.pdf_25.jpg\"\n"
      ],
      "metadata": {
        "id": "L9H3olXyWAcm"
      },
      "execution_count": 14,
      "outputs": []
    },
    {
      "cell_type": "code",
      "source": [
        "detection_results = model.predict(source, save=True, imgsz=(600, 800), conf=0.5, device=\"cpu\")"
      ],
      "metadata": {
        "colab": {
          "base_uri": "https://localhost:8080/"
        },
        "id": "8Kjh6uFFXgp_",
        "outputId": "32cffbe2-01ff-456d-be4b-4d31e0825009"
      },
      "execution_count": 15,
      "outputs": [
        {
          "output_type": "stream",
          "name": "stderr",
          "text": [
            "\n",
            "WARNING ⚠️ imgsz=[600, 800] must be multiple of max stride 32, updating to [608, 800]\n",
            "image 1/1 /content/dataset/questiondetection/test/P6_Maths_2022_SA2_payalebarmethodist.pdf_25.jpg: 608x448 1 question, 2 subquestions, 2 blanks, 2062.4ms\n",
            "Speed: 1.2ms preprocess, 2062.4ms inference, 34.3ms postprocess per image at shape (1, 3, 608, 800)\n",
            "Results saved to \u001b[1mruns/detect/predict\u001b[0m\n"
          ]
        }
      ]
    },
    {
      "cell_type": "code",
      "source": [
        "#@title plot for example\n",
        "import cv2\n",
        "from IPython.display import display, Image\n",
        "for x in detection_results:\n",
        "    boxes = x.boxes\n",
        "    masks = x.masks\n",
        "    probs = x.probs\n",
        "    print(boxes[0])\n",
        "    annotated_frame = detection_results[0].plot()\n",
        "\n",
        "    # Display the annotated frame\n",
        "    _, encoded_img = cv2.imencode('.png', annotated_frame)\n",
        "    img_bytes = encoded_img.tobytes()\n",
        "    display(Image(img_bytes))\n",
        "    # cv2.imshow(\"YOLOv8 Inference\", annotated_frame)\n",
        "    break"
      ],
      "metadata": {
        "id": "8SgKhCQdX3g7",
        "cellView": "form"
      },
      "execution_count": null,
      "outputs": []
    },
    {
      "cell_type": "markdown",
      "source": [
        "# **OCR**\n"
      ],
      "metadata": {
        "id": "pQ772gDeSiKR"
      }
    },
    {
      "cell_type": "markdown",
      "source": [
        "### use MathPix ORC"
      ],
      "metadata": {
        "id": "PQsSmo7QOWjV"
      }
    },
    {
      "cell_type": "code",
      "source": [
        "#!/usr/bin/env python\n",
        "import requests\n",
        "import json\n",
        "import io"
      ],
      "metadata": {
        "id": "6aHzRcQ7OZyu"
      },
      "execution_count": 17,
      "outputs": []
    },
    {
      "cell_type": "code",
      "source": [
        "#@title mathpix ocr function\n",
        "def mathpix_ocrrequest(io_buffer, app_id", app_key):\n",
        "    try:\n",
        "        r = requests.post(\"https://api.mathpix.com/v3/text\",\n",
        "            files={\"file\": io_buffer},\n",
        "            data={\n",
        "            \"options_json\": json.dumps({\n",
        "                \"math_inline_delimiters\": [\"$\", \"$\"],\n",
        "                \"rm_spaces\": True\n",
        "            })\n",
        "            },\n",
        "            headers={\n",
        "                \"app_id\": app_id ,\n",
        "                \"app_key\":app_key \n",
        "            }\n",
        "        )\n",
        "        r = r.json()\n",
        "        if \"text\" in r.keys():\n",
        "            return r['text']\n",
        "        else :\n",
        "            return \"\"\n",
        "    except Exception as e:\n",
        "        print(\"Mathpix_ocr_requestion got error :\", e)\n",
        "        return \"???\"\n",
        "# print(json.dumps(r.json(), indent=4, sort_keys=True))"
      ],
      "metadata": {
        "id": "lpCyNTnDXsZF",
        "cellView": "form"
      },
      "execution_count": 26,
      "outputs": []
    },
    {
      "cell_type": "code",
      "source": [],
      "metadata": {
        "id": "F5LkWAZ9p2u0"
      },
      "execution_count": null,
      "outputs": []
    },
    {
      "cell_type": "code",
      "source": [
        "cv2.imwrite(\"haha.png\",detection_results[0].orig_img)"
      ],
      "metadata": {
        "colab": {
          "base_uri": "https://localhost:8080/"
        },
        "id": "KpVHWhmEq0nD",
        "outputId": "f2331e02-7647-49b1-8d40-53722f0285f4"
      },
      "execution_count": 37,
      "outputs": [
        {
          "output_type": "execute_result",
          "data": {
            "text/plain": [
              "True"
            ]
          },
          "metadata": {},
          "execution_count": 37
        }
      ]
    },
    {
      "cell_type": "code",
      "source": [
        "detection_results[0].orig_img.shape"
      ],
      "metadata": {
        "colab": {
          "base_uri": "https://localhost:8080/"
        },
        "id": "eS0gSpcSr4p_",
        "outputId": "59811352-b592-47c0-aa97-7b886d5f1ead"
      },
      "execution_count": 38,
      "outputs": [
        {
          "output_type": "execute_result",
          "data": {
            "text/plain": [
              "(2338, 1654, 3)"
            ]
          },
          "metadata": {},
          "execution_count": 38
        }
      ]
    },
    {
      "cell_type": "markdown",
      "source": [
        "# **Grouping Elements**"
      ],
      "metadata": {
        "id": "ApF4zvb31egy"
      }
    },
    {
      "cell_type": "code",
      "source": [
        "elements = []\n",
        "orders   = []\n",
        "\n",
        "def save_image(img):\n",
        "    name = \"xxx.png\"\n",
        "    cv2.imwrite(name, img)\n",
        "    return name\n",
        "\n",
        "for i, result in enumerate(detection_results):\n",
        "    for bidx, box in enumerate(result.boxes):\n",
        "        cls = reverse_map[int(box.cls)]\n",
        "        bb = box.xyxy[0].numpy()\n",
        "        cropped_image = detection_results[i].orig_img[int(bb[1]): int(bb[3]), int(bb[0]): int(bb[2])]\n",
        "        if cls in [\"image\", \"table\"]: #save image/table\n",
        "            path = save_image(cropped_image)\n",
        "        else: #OCR on text only: question, subquestion, choice(text), blank, auxillary_text\n",
        "            _, buffer = cv2.imencode(\".png\", cropped_image)\n",
        "            io_buffer = io.BytesIO(buffer)\n",
        "            text = mathpix_ocrrequest(io_buffer=io_buffer)\n",
        "\n",
        "        obj = {\"name\":cls, \n",
        "                \"text\": text,\n",
        "               'child':[], \n",
        "               \"idx\": (i, int(box.xyxy[0][1]))} #(page number, y-position)\n",
        "        elements += [obj]\n",
        "        \n",
        "elements = sorted(elements, key=lambda x: x[\"idx\"])\n",
        "orders = [category_weights[obj['name']] for obj in elements]"
      ],
      "metadata": {
        "id": "XvA4meskdh4P"
      },
      "execution_count": 55,
      "outputs": []
    },
    {
      "cell_type": "code",
      "source": [
        "orders, elements "
      ],
      "metadata": {
        "id": "iodG2A9MiMKM",
        "colab": {
          "base_uri": "https://localhost:8080/"
        },
        "outputId": "f205a55f-640a-4192-8d5a-56402df8b9c4"
      },
      "execution_count": 52,
      "outputs": [
        {
          "output_type": "execute_result",
          "data": {
            "text/plain": [
              "([2, 1, 0, 1, 0],\n",
              " [{'name': 'question',\n",
              "   'text': '10. At first, Mr Ahmad had a total of 600 bowls and plates in his shop.\\nHe sold $\\\\frac{3}{5}$ of the bowis and 124 plates. After that, Mr Ahmad had thrice as many bowls as plates in his shop.',\n",
              "   'child': [],\n",
              "   'idx': (0, 245)},\n",
              "  {'name': 'subquestion',\n",
              "   'text': \"(a) What was the ratio of the number of bows sold to the number of bowls left In Mr Ahmad's shop? Express your answer in its simplest form.\",\n",
              "   'child': [],\n",
              "   'idx': (0, 448)},\n",
              "  {'name': 'blank', 'text': 'Ans: $(a)$\\n[1]', 'child': [], 'idx': (0, 839)},\n",
              "  {'name': 'subquestion',\n",
              "   'text': '(b) How many plates and bowis did he sell altogether?',\n",
              "   'child': [],\n",
              "   'idx': (0, 965)},\n",
              "  {'name': 'blank', 'text': 'Ans: $(b)$\\n[3]', 'child': [], 'idx': (0, 1922)}])"
            ]
          },
          "metadata": {},
          "execution_count": 52
        }
      ]
    },
    {
      "cell_type": "code",
      "source": [
        "#preprocesing\n",
        "def combine_min_elements(orders, elements):\n",
        "    arr = orders\n",
        "    idx_e = [i for i in range(len(elements))]\n",
        "    order = min(orders)\n",
        "    \n",
        "    #Group min elements in orders list : [2 0 0 3 0 1 0 0 1 0 3 2 0 1 0  ] -> [2, [0, 0], 3 [0], 1 [0, 0] 1 [0] 3 2 [0] 1 [0] ]\n",
        "    tmp = []\n",
        "    tmp_e = []\n",
        "    new_arr = []\n",
        "    new_arr_e =[]\n",
        "    i = len(arr)-1\n",
        "    while i >= 0:\n",
        "        if arr[i] > order:\n",
        "            new_arr = [arr[i], tmp] + new_arr if len(tmp) > 0 else [arr[i]] + new_arr\n",
        "            new_arr_e = [idx_e[i], tmp_e[::-1]] + new_arr_e if len(tmp_e) > 0 else [idx_e[i]] + new_arr_e\n",
        "            tmp = []\n",
        "            tmp_e = []\n",
        "        else:\n",
        "            tmp = [arr[i]]\n",
        "            tmp_e += [idx_e[i]]\n",
        "        i -= 1\n",
        "    #reduce array for [2, [0, 0], 3 [0], 1 [0, 0] 1 [0] 3 2 [0] 1 [0] ] -> [2, 3, 1, 1, 3, 2, 1]\n",
        "    new_arr_2 = []\n",
        "    new_arr_2_e = []\n",
        "    i = 0\n",
        "    while i < len(new_arr):\n",
        "        if type(new_arr[i]) == int:\n",
        "            new_arr_2 += [new_arr[i]]\n",
        "            new_arr_2_e += [new_arr_e[i]]\n",
        "        else:\n",
        "            for j in new_arr_e[i]:\n",
        "                elements[new_arr_e[i-1]][\"child\"] += [ elements[j] ] \n",
        "        i += 1\n",
        "\n",
        "    new_arr_2_e = [elements[i] for i in new_arr_2_e]\n",
        "\n",
        "    return new_arr_2, new_arr_2_e\n",
        "\n",
        "def group_element(orders, elements):\n",
        "    \"\"\"Args:\n",
        "        - orders : (list[int])   Contain category_weights corresponding elements\n",
        "        - elements: (list[dict]) Contain all detected element in order from top to bottom of page, from page 0 to page n\n",
        "        Return: json object like html document object\n",
        "    \"\"\"\n",
        "    o, e = orders, elements\n",
        "    while len(set(o)) > 1:\n",
        "        o, e = combine_min_elements(o,e)\n",
        "    return e\n",
        "  \n"
      ],
      "metadata": {
        "id": "tKGs_6exHQrm"
      },
      "execution_count": 53,
      "outputs": []
    },
    {
      "cell_type": "code",
      "source": [
        "json_obj = group_element(orders, elements)\n",
        "json_obj"
      ],
      "metadata": {
        "colab": {
          "base_uri": "https://localhost:8080/"
        },
        "id": "wldCDk0EtQtL",
        "outputId": "73384e44-bcd0-4a6f-9388-6b8c846fdb7b"
      },
      "execution_count": 56,
      "outputs": [
        {
          "output_type": "execute_result",
          "data": {
            "text/plain": [
              "[{'name': 'question',\n",
              "  'text': '10. At first, Mr Ahmad had a total of 600 bowls and plates in his shop.\\nHe sold $\\\\frac{3}{5}$ of the bowis and 124 plates. After that, Mr Ahmad had thrice as many bowls as plates in his shop.',\n",
              "  'child': [{'name': 'subquestion',\n",
              "    'text': \"(a) What was the ratio of the number of bows sold to the number of bowls left In Mr Ahmad's shop? Express your answer in its simplest form.\",\n",
              "    'child': [{'name': 'blank',\n",
              "      'text': 'Ans: $(a)$\\n[1]',\n",
              "      'child': [],\n",
              "      'idx': (0, 839)}],\n",
              "    'idx': (0, 448)},\n",
              "   {'name': 'subquestion',\n",
              "    'text': '(b) How many plates and bowis did he sell altogether?',\n",
              "    'child': [{'name': 'blank',\n",
              "      'text': 'Ans: $(b)$\\n[3]',\n",
              "      'child': [],\n",
              "      'idx': (0, 1922)}],\n",
              "    'idx': (0, 965)}],\n",
              "  'idx': (0, 245)}]"
            ]
          },
          "metadata": {},
          "execution_count": 56
        }
      ]
    },
    {
      "cell_type": "code",
      "source": [
        "json_obj[0]['name']"
      ],
      "metadata": {
        "id": "g-UMTs4M3pzD",
        "colab": {
          "base_uri": "https://localhost:8080/",
          "height": 37
        },
        "outputId": "4a40e4f1-8828-4ccc-ae7d-2090b64a731e"
      },
      "execution_count": 57,
      "outputs": [
        {
          "output_type": "execute_result",
          "data": {
            "text/plain": [
              "'question'"
            ],
            "application/vnd.google.colaboratory.intrinsic+json": {
              "type": "string"
            }
          },
          "metadata": {},
          "execution_count": 57
        }
      ]
    },
    {
      "cell_type": "code",
      "source": [
        "json_obj[0]['child']"
      ],
      "metadata": {
        "colab": {
          "base_uri": "https://localhost:8080/"
        },
        "id": "_xqrNTXZwJZV",
        "outputId": "3619efcb-960b-484a-97c5-4c8a52d4611f"
      },
      "execution_count": 58,
      "outputs": [
        {
          "output_type": "execute_result",
          "data": {
            "text/plain": [
              "[{'name': 'subquestion',\n",
              "  'text': \"(a) What was the ratio of the number of bows sold to the number of bowls left In Mr Ahmad's shop? Express your answer in its simplest form.\",\n",
              "  'child': [{'name': 'blank',\n",
              "    'text': 'Ans: $(a)$\\n[1]',\n",
              "    'child': [],\n",
              "    'idx': (0, 839)}],\n",
              "  'idx': (0, 448)},\n",
              " {'name': 'subquestion',\n",
              "  'text': '(b) How many plates and bowis did he sell altogether?',\n",
              "  'child': [{'name': 'blank',\n",
              "    'text': 'Ans: $(b)$\\n[3]',\n",
              "    'child': [],\n",
              "    'idx': (0, 1922)}],\n",
              "  'idx': (0, 965)}]"
            ]
          },
          "metadata": {},
          "execution_count": 58
        }
      ]
    }
  ]
}